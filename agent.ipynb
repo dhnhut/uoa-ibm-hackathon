{
 "cells": [
  {
   "cell_type": "markdown",
   "id": "3bbc1cd0",
   "metadata": {},
   "source": [
    "Test"
   ]
  },
  {
   "cell_type": "code",
   "execution_count": 1,
   "id": "6449ae47",
   "metadata": {},
   "outputs": [
    {
     "name": "stdout",
     "output_type": "stream",
     "text": [
      "Collecting python-dotenv\n",
      "  Using cached python_dotenv-1.1.0-py3-none-any.whl.metadata (24 kB)\n",
      "Using cached python_dotenv-1.1.0-py3-none-any.whl (20 kB)\n",
      "Installing collected packages: python-dotenv\n",
      "Successfully installed python-dotenv-1.1.0\n",
      "Note: you may need to restart the kernel to use updated packages.\n"
     ]
    }
   ],
   "source": [
    "%pip install python-dotenv"
   ]
  },
  {
   "cell_type": "code",
   "execution_count": null,
   "id": "54b88210",
   "metadata": {},
   "outputs": [],
   "source": [
    "import os\n",
    "from dotenv import load_dotenv\n",
    "\n",
    "load_dotenv()  # take environment variables from .env.\n",
    "# Load environment variables from .env file\n",
    "# Ensure that the .env file is in the same directory as this script or provide the path to it\n",
    "APIKEY = os.getenv(\"APIKEY\")\n",
    "WATSONX_AI_URL=os.getenv(\"WATSONX_AI_URL\")\n",
    "PROJECT_ID=os.getenv(\"PROJECT_ID\")\n",
    "\n",
    "# Note: Be cautious with printing sensitive information like API keys in production code.\n",
    "# Ensure that the .env file is not included in version control\n",
    "# and is kept secure.\n",
    "# print(APIKEY)  # Print the API key to verify it's loaded correctly"
   ]
  }
 ],
 "metadata": {
  "kernelspec": {
   "display_name": "hkt",
   "language": "python",
   "name": "python3"
  },
  "language_info": {
   "codemirror_mode": {
    "name": "ipython",
    "version": 3
   },
   "file_extension": ".py",
   "mimetype": "text/x-python",
   "name": "python",
   "nbconvert_exporter": "python",
   "pygments_lexer": "ipython3",
   "version": "3.13.2"
  }
 },
 "nbformat": 4,
 "nbformat_minor": 5
}
