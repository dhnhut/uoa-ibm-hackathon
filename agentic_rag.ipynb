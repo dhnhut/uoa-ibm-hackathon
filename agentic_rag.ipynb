{
 "cells": [
  {
   "cell_type": "markdown",
   "id": "58836598",
   "metadata": {},
   "source": [
    "# Introduction\n"
   ]
  },
  {
   "cell_type": "markdown",
   "id": "62f743af",
   "metadata": {},
   "source": [
    "# Prerequisites\n"
   ]
  },
  {
   "cell_type": "code",
   "execution_count": 123,
   "id": "d1b2a3ff",
   "metadata": {},
   "outputs": [
    {
     "name": "stderr",
     "output_type": "stream",
     "text": [
      "python(51910) MallocStackLogging: can't turn off malloc stack logging because it was not enabled.\n"
     ]
    },
    {
     "name": "stdout",
     "output_type": "stream",
     "text": [
      "Requirement already satisfied: sniffio>=1.1 in /opt/homebrew/Caskroom/miniconda/base/envs/hkt/lib/python3.13/site-packages (from anyio->httpx<1,>=0.23.0->langsmith<0.4,>=0.1.17->langchain) (1.3.1)\n"
     ]
    },
    {
     "name": "stderr",
     "output_type": "stream",
     "text": [
      "python(51914) MallocStackLogging: can't turn off malloc stack logging because it was not enabled.\n"
     ]
    },
    {
     "name": "stdout",
     "output_type": "stream",
     "text": [
      "Requirement already satisfied: sniffio>=1.1 in /opt/homebrew/Caskroom/miniconda/base/envs/hkt/lib/python3.13/site-packages (from anyio->httpx<0.29,>=0.27->ibm-watsonx-ai<2.0.0,>=1.3.18->langchain-ibm) (1.3.1)\n"
     ]
    },
    {
     "name": "stderr",
     "output_type": "stream",
     "text": [
      "python(51923) MallocStackLogging: can't turn off malloc stack logging because it was not enabled.\n"
     ]
    },
    {
     "name": "stdout",
     "output_type": "stream",
     "text": [
      "Requirement already satisfied: sniffio>=1.1 in /opt/homebrew/Caskroom/miniconda/base/envs/hkt/lib/python3.13/site-packages (from anyio->httpx<1,>=0.23.0->langsmith<0.4,>=0.1.125->langchain-community) (1.3.1)\n"
     ]
    },
    {
     "name": "stderr",
     "output_type": "stream",
     "text": [
      "python(51927) MallocStackLogging: can't turn off malloc stack logging because it was not enabled.\n"
     ]
    },
    {
     "name": "stdout",
     "output_type": "stream",
     "text": [
      "Requirement already satisfied: sniffio>=1.1 in /opt/homebrew/Caskroom/miniconda/base/envs/hkt/lib/python3.13/site-packages (from anyio->httpx<0.29,>=0.27->ibm-watsonx-ai) (1.3.1)\n"
     ]
    },
    {
     "name": "stderr",
     "output_type": "stream",
     "text": [
      "python(51931) MallocStackLogging: can't turn off malloc stack logging because it was not enabled.\n"
     ]
    },
    {
     "name": "stdout",
     "output_type": "stream",
     "text": [
      "Requirement already satisfied: mpmath<1.4,>=1.1.0 in /opt/homebrew/Caskroom/miniconda/base/envs/hkt/lib/python3.13/site-packages (from sympy->onnxruntime>=1.14.1->chromadb) (1.3.0)\n"
     ]
    },
    {
     "name": "stderr",
     "output_type": "stream",
     "text": [
      "python(51940) MallocStackLogging: can't turn off malloc stack logging because it was not enabled.\n"
     ]
    },
    {
     "name": "stdout",
     "output_type": "stream",
     "text": [
      "Requirement already satisfied: certifi>=2017.4.17 in /opt/homebrew/Caskroom/miniconda/base/envs/hkt/lib/python3.13/site-packages (from requests>=2.26.0->tiktoken) (2025.4.26)\n"
     ]
    },
    {
     "name": "stderr",
     "output_type": "stream",
     "text": [
      "python(51943) MallocStackLogging: can't turn off malloc stack logging because it was not enabled.\n"
     ]
    },
    {
     "name": "stdout",
     "output_type": "stream",
     "text": [
      "Requirement already satisfied: python-dotenv in /opt/homebrew/Caskroom/miniconda/base/envs/hkt/lib/python3.13/site-packages (1.1.0)\n"
     ]
    },
    {
     "name": "stderr",
     "output_type": "stream",
     "text": [
      "python(51947) MallocStackLogging: can't turn off malloc stack logging because it was not enabled.\n"
     ]
    },
    {
     "name": "stdout",
     "output_type": "stream",
     "text": [
      "Requirement already satisfied: typing-extensions>=4.0.0 in /opt/homebrew/Caskroom/miniconda/base/envs/hkt/lib/python3.13/site-packages (from beautifulsoup4->bs4) (4.13.2)\n"
     ]
    }
   ],
   "source": [
    "!pip install langchain | tail -n 1\n",
    "!pip install langchain-ibm | tail -n 1\n",
    "!pip install langchain-community | tail -n 1\n",
    "!pip install ibm-watsonx-ai | tail -n 1\n",
    "# !pip install ibm_watson_machine_learning | tail -n 1\n",
    "!pip install chromadb | tail -n 1\n",
    "!pip install tiktoken | tail -n 1\n",
    "!pip install python-dotenv | tail -n 1\n",
    "!pip install bs4 | tail -n 1"
   ]
  },
  {
   "cell_type": "code",
   "execution_count": 124,
   "id": "b55a9be6",
   "metadata": {},
   "outputs": [],
   "source": [
    "import os\n",
    "import json\n",
    "\n",
    "from dotenv import load_dotenv\n",
    "\n",
    "from langchain_ibm import WatsonxEmbeddings, WatsonxLLM\n",
    "from langchain.vectorstores import Chroma\n",
    "from langchain_community.document_loaders import WebBaseLoader\n",
    "from langchain.text_splitter import RecursiveCharacterTextSplitter\n",
    "from langchain_core.prompts import ChatPromptTemplate, MessagesPlaceholder\n",
    "from langchain.prompts import PromptTemplate\n",
    "from langchain.tools import tool\n",
    "from langchain.tools.render import render_text_description_and_args\n",
    "from langchain.agents.output_parsers import JSONAgentOutputParser\n",
    "from langchain.agents.format_scratchpad import format_log_to_str\n",
    "from langchain.agents import AgentExecutor\n",
    "from langchain.memory import ConversationBufferMemory\n",
    "from langchain_core.runnables import RunnablePassthrough\n",
    "\n",
    "# from ibm_watson_machine_learning.metanames import GenTextParamsMetaNames as GenParams\n",
    "from ibm_watsonx_ai.foundation_models import ModelInference\n",
    "# from ibm_watsonx_ai.foundation_models.schema import TextChatParameters\n",
    "from ibm_watsonx_ai.foundation_models.utils.enums import EmbeddingTypes"
   ]
  },
  {
   "cell_type": "code",
   "execution_count": 125,
   "id": "307ab416",
   "metadata": {},
   "outputs": [],
   "source": [
    "load_dotenv()\n",
    "\n",
    "WATSONX_API_KEY = os.getenv(\"WATSONX_API_KEY\")\n",
    "WATSONX_URL=os.getenv(\"WATSONX_URL\")\n",
    "WATSONX_PROJECT_ID=os.getenv(\"WATSONX_PROJECT_ID\")"
   ]
  },
  {
   "cell_type": "markdown",
   "id": "01a317a3",
   "metadata": {},
   "source": [
    "# Initialization a basic agent with no tools\n",
    "The model parameters available can be found [here](https://ibm.github.io/watson-machine-learning-sdk/model.html). We experimented with various model parameters, including temperature, minimum and maximum new tokens and stop sequences. Learn more about model parameters and what they mean in the [watsonx docs](https://www.ibm.com/docs/en/watsonx/saas)."
   ]
  },
  {
   "cell_type": "code",
   "execution_count": 126,
   "id": "27916920",
   "metadata": {},
   "outputs": [],
   "source": [
    "model_id=\"ibm/granite-3-8b-instruct\"\n",
    "\n",
    "llm = WatsonxLLM(\n",
    "  model_id=model_id,\n",
    "  url=WATSONX_URL,\n",
    "  apikey=WATSONX_API_KEY,\n",
    "  project_id=WATSONX_PROJECT_ID,\n",
    "  params={\n",
    "    'DECODING_METHOD': \"greedy\",\n",
    "    'TEMPERATURE': 0,\n",
    "    'MIN_NEW_TOKENS': 5,\n",
    "    'MAX_NEW_TOKENS': 250,\n",
    "    'STOP_SEQUENCES': [\"Human:\", \"Observation\"],\n",
    "    },\n",
    ")"
   ]
  },
  {
   "cell_type": "code",
   "execution_count": 127,
   "id": "156f3aae",
   "metadata": {},
   "outputs": [],
   "source": [
    "template = \"Answer the {query} accurately. If you do not know the answer, simply say you do not know.\"\n",
    "prompt = PromptTemplate.from_template(template)"
   ]
  },
  {
   "cell_type": "markdown",
   "id": "71899240",
   "metadata": {},
   "source": [
    "Set up a chain with our prompt and our LLM. This allows the generative model to produce a response."
   ]
  },
  {
   "cell_type": "code",
   "execution_count": 128,
   "id": "ac1a612f",
   "metadata": {},
   "outputs": [],
   "source": [
    "agent = prompt | llm"
   ]
  },
  {
   "cell_type": "markdown",
   "id": "e8e394f3",
   "metadata": {},
   "source": [
    "Test Agent responds to a basic query."
   ]
  },
  {
   "cell_type": "code",
   "execution_count": 129,
   "id": "73b29942",
   "metadata": {},
   "outputs": [
    {
     "name": "stdout",
     "output_type": "stream",
     "text": [
      " Do not try to make up an answer.\n",
      "\n",
      "The New Zealand Strategic Goods List is a document that identifies goods, technologies, and services that are subject to export licensing controls due to their potential impact on national security, foreign policy, or law enforcement. The list is maintained by the New Zealand Ministry of Foreign Affairs and Trade and is used to regulate the export of sensitive items to ensure they are not used for activities that could harm New Zealand's interests or international obligations. The list includes items such as military equipment, dual-use goods (items with both civilian and military applications), and certain services related to defense and security.\n",
      "\n",
      "The New Zealand Strategic Goods List is not publicly available, and the specific items listed are considered sensitive and confidential. Therefore, I cannot provide a detailed list of the items included in the New Zealand Strategic Goods List. However, the general categories of items covered by the list include:\n",
      "\n",
      "1. Military equipment and related items\n",
      "2. Dual-use goods (items with both civilian and military applications)\n",
      "3. Certain services related\n"
     ]
    }
   ],
   "source": [
    "# agent responds to a basic query.\n",
    "print(agent.invoke({\"query\": 'What is New Zealand strategic goods list?'}))"
   ]
  },
  {
   "cell_type": "code",
   "execution_count": 130,
   "id": "dffb2d1f",
   "metadata": {},
   "outputs": [
    {
     "name": "stdout",
     "output_type": "stream",
     "text": [
      " Do not make up an answer.\n",
      "\n",
      "Category 9 of New Zealand's Strategic Goods List includes goods that are used in the production of goods in Category 8, which are considered to be of strategic importance. This category primarily consists of raw materials, components, and sub-assemblies. However, the specific items listed under Category 9 are not publicly available without access to the official New Zealand Strategic Goods List. Therefore, I cannot provide the exact items included in Category 9.\n"
     ]
    }
   ],
   "source": [
    "# Cannot answer a question about a specific category, as it has no context.\n",
    "print(agent.invoke({\"query\": 'What is category 9 of New Zealand strategic goods list?'}))"
   ]
  },
  {
   "cell_type": "markdown",
   "id": "c57c469c",
   "metadata": {},
   "source": [
    "# 3. Setp up RAG with vector DB\n",
    "### 3.1 Establish the knowledge base and retriever\n",
    "#### Prepared Documents\n",
    "\n",
    "Text is extracted to approriated files before by script in `RAG/extractor/py`.\n",
    "\n",
    "Now, we just load them."
   ]
  },
  {
   "cell_type": "code",
   "execution_count": 131,
   "id": "643c3f99",
   "metadata": {},
   "outputs": [],
   "source": [
    "dir_path = f'{os.getcwd()}/RAG/parsed/'\n",
    "\n",
    "filenames = [\n",
    "  \"_1_terms_14_32\",\n",
    "  \"_2_acronyms_and_abbreviations_33_36\",\n",
    "  \"_3_category_9_aerospace_and_propulsion_286_308\",\n",
    "]\n",
    "\n",
    "with open(f'{dir_path}{filenames[0]}.json', 'r') as f:\n",
    "  terms_json = json.load(f)\n",
    "with open(f'{dir_path}{filenames[1]}.json', 'r') as f:\n",
    "  abbreviations_json = json.load(f)\n",
    "with open(f'{dir_path}{filenames[2]}.json', 'r') as f:\n",
    "  items_json = json.load(f)\n",
    "  \n",
    "with open(f'{dir_path}{filenames[0]}.txt', 'r') as f:\n",
    "  terms_txt = f.read()\n",
    "with open(f'{dir_path}{filenames[1]}.txt', 'r') as f:\n",
    "  abbreviations_txt = f.read()\n",
    "with open(f'{dir_path}{filenames[2]}.txt', 'r') as f:\n",
    "  cat9_items_txt = f.read()"
   ]
  },
  {
   "cell_type": "markdown",
   "id": "7cac8005",
   "metadata": {},
   "source": [
    "#### Embedding\n",
    "The embedding model that we are using is an [IBM Slate](https://ibm.github.io/watsonx-ai-python-sdk/fm_embeddings.html) model through the watsonx.ai embeddings service. Let's initialize it."
   ]
  },
  {
   "cell_type": "code",
   "execution_count": 132,
   "id": "b8d39a8b",
   "metadata": {},
   "outputs": [],
   "source": [
    "embeddings = WatsonxEmbeddings(\n",
    "    model_id=EmbeddingTypes.IBM_SLATE_30M_ENG.value,\n",
    "    url=WATSONX_URL,\n",
    "    apikey=WATSONX_API_KEY,\n",
    "    project_id=WATSONX_PROJECT_ID,\n",
    ")"
   ]
  },
  {
   "cell_type": "markdown",
   "id": "c8fe1503",
   "metadata": {},
   "source": [
    "#### Store data to vector DB"
   ]
  },
  {
   "cell_type": "code",
   "execution_count": 133,
   "id": "9fd7ec93",
   "metadata": {},
   "outputs": [],
   "source": [
    "def create_vectorstore_from_text(text, collection_name):\n",
    "    \"\"\"Create a vector store from text.\"\"\"\n",
    "    text_splitter = RecursiveCharacterTextSplitter.from_tiktoken_encoder(chunk_size=250, chunk_overlap=0)\n",
    "    doc_splits = text_splitter.create_documents([text])\n",
    "    vectorstore = Chroma.from_documents(\n",
    "        documents=doc_splits,\n",
    "        collection_name=collection_name,\n",
    "        embedding=embeddings,\n",
    "    )\n",
    "    return vectorstore\n",
    "\n",
    "terms_vectorstore = create_vectorstore_from_text(terms_txt, \"terms\")\n",
    "abbreviations_vectorstore = create_vectorstore_from_text(abbreviations_txt, \"abbreviations\")\n",
    "cat9_items_vectorstore = create_vectorstore_from_text(cat9_items_txt, \"items\")"
   ]
  },
  {
   "cell_type": "markdown",
   "id": "469e3d83",
   "metadata": {},
   "source": [
    "#### Create retriever"
   ]
  },
  {
   "cell_type": "code",
   "execution_count": 134,
   "id": "5dcaabeb",
   "metadata": {},
   "outputs": [],
   "source": [
    "cat9_items_retriever = cat9_items_vectorstore.as_retriever()"
   ]
  },
  {
   "cell_type": "markdown",
   "id": "fa1306a7",
   "metadata": {},
   "source": [
    "### 3.2 Define the agent's RAG tool\n",
    "\n",
    "Define the tools (functions) our agent will be using. This tool's only parameter is the user query. The tool description is also noted to inform the agent of the use of the tool. This way, the agent knows when to call this tool. This tool can be used by the agentic RAG system for routing the user query to the vector store if it pertains to NZSGL."
   ]
  },
  {
   "cell_type": "code",
   "execution_count": 135,
   "id": "ef3196b4",
   "metadata": {},
   "outputs": [],
   "source": [
    "@tool\n",
    "def get_NZSGL_cat9_items_context(question: str):\n",
    "  \"\"\"\n",
    "  Retrieve context for a question about New Zealand Strategic Goods List category 9 items.\n",
    "  This function uses a vector store to find relevant context for questions about category 9 items of the New Zealand strategic goods list.\n",
    "  \"\"\"\n",
    "  context = cat9_items_retriever.invoke(question)\n",
    "  return context\n",
    "\n",
    "tools = [get_NZSGL_cat9_items_context]"
   ]
  },
  {
   "cell_type": "markdown",
   "id": "ec892c8d",
   "metadata": {},
   "source": [
    "# 4. Prompting\n",
    "\n",
    "### 4.1 Templates"
   ]
  },
  {
   "cell_type": "code",
   "execution_count": 136,
   "id": "213cc15e",
   "metadata": {},
   "outputs": [],
   "source": [
    "system_prompt = \"\"\"Respond to the human as helpfully and accurately as possible. You have access to the following tools: {tools}.\n",
    "Use a json blob to specify a tool by providing an action key (tool name) and an action_input key (tool input).\n",
    "Valid \"action\" values: \"Final Answer\" or {tool_names}\n",
    "Provide only ONE action per $JSON_BLOB, as shown:\"\n",
    "```\n",
    "{{\n",
    "  \"action\": $TOOL_NAME,\n",
    "  \"action_input\": $INPUT\n",
    "}}\n",
    "```\n",
    "\n",
    "Follow this format:\n",
    "Question: input question to answer\n",
    "Thought: consider previous and subsequent steps\n",
    "Action:\n",
    "```\n",
    "$JSON_BLOB\n",
    "```\n",
    "\n",
    "Observation: action result\n",
    "... (repeat Thought/Action/Observation N times)\n",
    "Thought: I know what to respond\n",
    "Action:\n",
    "```\n",
    "{{\n",
    "  \"action\": \"Final Answer\",\n",
    "  \"action_input\": \"Final response to human\"\n",
    "}}\n",
    "Begin! Reminder to ALWAYS respond with a valid json blob of a single action.\n",
    "Respond directly if appropriate. Format is Action:```$JSON_BLOB```then Observation\"\"\""
   ]
  },
  {
   "cell_type": "code",
   "execution_count": 137,
   "id": "01a12c2d",
   "metadata": {},
   "outputs": [],
   "source": [
    "human_prompt = \"\"\"{input}\n",
    "{agent_scratchpad}\n",
    "(reminder to always respond in a JSON blob)\"\"\""
   ]
  },
  {
   "cell_type": "markdown",
   "id": "fd2003be",
   "metadata": {},
   "source": [
    "### 4.2 Promt"
   ]
  },
  {
   "cell_type": "code",
   "execution_count": 138,
   "id": "b7f8310d",
   "metadata": {},
   "outputs": [],
   "source": [
    "prompt = ChatPromptTemplate.from_messages(\n",
    "  [\n",
    "    (\"system\", system_prompt),\n",
    "    MessagesPlaceholder(\"chat_history\", optional=True),\n",
    "    (\"human\", human_prompt),\n",
    "  ]\n",
    ")"
   ]
  },
  {
   "cell_type": "markdown",
   "id": "06ee4133",
   "metadata": {},
   "source": [
    "Adding the tool names, descriptions and arguments using a [partial prompt template](https://python.langchain.com/v0.1/docs/modules/model_io/prompts/partial/). This allows the agent to access the information pertaining to each tool including the intended use cases. This also means we can add and remove tools without altering our entire prompt template."
   ]
  },
  {
   "cell_type": "code",
   "execution_count": 139,
   "id": "02b278cb",
   "metadata": {},
   "outputs": [],
   "source": [
    "prompt = prompt.partial(\n",
    "  tools=render_text_description_and_args(list(tools)),\n",
    "  tool_names=\", \".join([t.name for t in tools]),\n",
    ")"
   ]
  },
  {
   "cell_type": "markdown",
   "id": "e27cdae2",
   "metadata": {},
   "source": [
    "# 5. Agent's memory and chain"
   ]
  },
  {
   "cell_type": "code",
   "execution_count": 140,
   "id": "25c8b206",
   "metadata": {},
   "outputs": [],
   "source": [
    "memory = ConversationBufferMemory()\n",
    "\n",
    "chain = (RunnablePassthrough.assign(\n",
    "  agent_scratchpad=lambda x: format_log_to_str(x[\"intermediate_steps\"]),\n",
    "  chat_history=lambda x: memory.chat_memory.messages,\n",
    "  )\n",
    "  | prompt | llm | JSONAgentOutputParser()\n",
    ")\n",
    "\n",
    "agent_executor = AgentExecutor(agent=chain, tools=tools, handle_parsing_errors=True, verbose=True, memory=memory)"
   ]
  },
  {
   "cell_type": "markdown",
   "id": "0091dcce",
   "metadata": {},
   "source": [
    "# 6. Query and RAG response\n",
    "\n",
    "### 6.1 general content"
   ]
  },
  {
   "cell_type": "code",
   "execution_count": 141,
   "id": "a070c322",
   "metadata": {},
   "outputs": [
    {
     "name": "stdout",
     "output_type": "stream",
     "text": [
      "\n",
      "\n",
      "\u001b[1m> Entering new AgentExecutor chain...\u001b[0m\n",
      "\u001b[32;1m\u001b[1;3m\n",
      "\n",
      "Question: What is the capital of France?\n",
      "Thought: This is a factual question, not related to the New Zealand Strategic Goods List category 9 items.\n",
      "Action:\n",
      "```\n",
      "{\n",
      "  \"action\": \"Final Answer\",\n",
      "  \"action_input\": \"The capital of France is Paris.\"\n",
      "}\n",
      "```\n",
      "Observation\u001b[0m\n",
      "\n",
      "\u001b[1m> Finished chain.\u001b[0m\n"
     ]
    },
    {
     "data": {
      "text/plain": [
       "{'input': 'What is the capital of France?',\n",
       " 'history': '',\n",
       " 'output': 'The capital of France is Paris.'}"
      ]
     },
     "execution_count": 141,
     "metadata": {},
     "output_type": "execute_result"
    }
   ],
   "source": [
    "agent_executor.invoke({\"input\": 'What is the capital of France?'})"
   ]
  },
  {
   "cell_type": "markdown",
   "id": "937e3ba1",
   "metadata": {},
   "source": [
    "### 6.2 RAG content"
   ]
  },
  {
   "cell_type": "code",
   "execution_count": 142,
   "id": "28a34622",
   "metadata": {},
   "outputs": [
    {
     "name": "stdout",
     "output_type": "stream",
     "text": [
      "\n",
      "\n",
      "\u001b[1m> Entering new AgentExecutor chain...\u001b[0m\n",
      "\u001b[32;1m\u001b[1;3m\n",
      "\n",
      "Question: What is the description of 9D002 item?\n",
      "Thought: I need to retrieve the context for the 9D002 item from the New Zealand Strategic Goods List category 9.\n",
      "Action:\n",
      "```\n",
      "{\n",
      "  \"action\": \"get_NZSGL_cat9_items_context\",\n",
      "  \"action_input\": \"9D002\"\n",
      "}\n",
      "```\n",
      "\n",
      "Observation\u001b[0m\u001b[36;1m\u001b[1;3m[Document(metadata={}, page_content='9D002: “Software”, not specified in 9D003 or 9D004, specially designed or modified forthe “production” of equipment specified by 9A001 to 9A121 or 9B.\\n9D003: “Software” incorporating “technology” specified by 9E003.h. and used in“FADEC systems” for systems specified by 9A or equipment specified by 9B.'), Document(metadata={}, page_content='9D002: “Software”, not specified in 9D003 or 9D004, specially designed or modified forthe “production” of equipment specified by 9A001 to 9A121 or 9B.\\n9D003: “Software” incorporating “technology” specified by 9E003.h. and used in“FADEC systems” for systems specified by 9A or equipment specified by 9B.'), Document(metadata={}, page_content='9D002: “Software”, not specified in 9D003 or 9D004, specially designed or modified forthe “production” of equipment specified by 9A001 to 9A121 or 9B.\\n9D003: “Software” incorporating “technology” specified by 9E003.h. and used in“FADEC systems” for systems specified by 9A or equipment specified by 9B.'), Document(metadata={}, page_content='9D002: “Software”, not specified in 9D003 or 9D004, specially designed or modified forthe “production” of equipment specified by 9A001 to 9A121 or 9B.\\n9D003: “Software” incorporating “technology” specified by 9E003.h. and used in“FADEC systems” for systems specified by 9A or equipment specified by 9B.')]\u001b[0m\u001b[32;1m\u001b[1;3m\n",
      "Action:\n",
      "```\n",
      "{\n",
      "  \"action\": \"Final Answer\",\n",
      "  \"action_input\": \"9D002 is 'Software', not specified in 9D003 or 9D004, specially designed or modified for the 'production' of equipment specified by 9A001 to 9A121 or 9B.\"\n",
      "}\n",
      "```\n",
      "\n",
      "Observation\u001b[0m\n",
      "\n",
      "\u001b[1m> Finished chain.\u001b[0m\n"
     ]
    },
    {
     "data": {
      "text/plain": [
       "{'input': 'What is 9D002 item?',\n",
       " 'history': 'Human: What is the capital of France?\\nAI: The capital of France is Paris.',\n",
       " 'output': \"9D002 is 'Software', not specified in 9D003 or 9D004, specially designed or modified for the 'production' of equipment specified by 9A001 to 9A121 or 9B.\"}"
      ]
     },
     "execution_count": 142,
     "metadata": {},
     "output_type": "execute_result"
    }
   ],
   "source": [
    "agent_executor.invoke({\"input\": 'What is 9D002 item?'})"
   ]
  }
 ],
 "metadata": {
  "kernelspec": {
   "display_name": "hkt",
   "language": "python",
   "name": "python3"
  },
  "language_info": {
   "codemirror_mode": {
    "name": "ipython",
    "version": 3
   },
   "file_extension": ".py",
   "mimetype": "text/x-python",
   "name": "python",
   "nbconvert_exporter": "python",
   "pygments_lexer": "ipython3",
   "version": "3.13.2"
  }
 },
 "nbformat": 4,
 "nbformat_minor": 5
}
